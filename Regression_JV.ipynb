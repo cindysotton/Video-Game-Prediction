{
  "cells": [
    {
      "cell_type": "markdown",
      "metadata": {
        "id": "view-in-github",
        "colab_type": "text"
      },
      "source": [
        "<a href=\"https://colab.research.google.com/github/cindysotton/Video-Game-Prediction/blob/main/Regression_JV.ipynb\" target=\"_parent\"><img src=\"https://colab.research.google.com/assets/colab-badge.svg\" alt=\"Open In Colab\"/></a>"
      ]
    },
    {
      "cell_type": "code",
      "execution_count": null,
      "metadata": {
        "colab": {
          "base_uri": "https://localhost:8080/"
        },
        "id": "69528323-240f-4986-964e-813e4983d12f",
        "outputId": "b2b3c94e-0dc7-4ed4-d361-d0b90d197025"
      },
      "outputs": [
        {
          "name": "stdout",
          "output_type": "stream",
          "text": [
            "Mounted at /content/drive\n"
          ]
        }
      ],
      "source": [
        "import pandas as pd\n",
        "import seaborn as sns\n",
        "import numpy as np\n",
        "import matplotlib.pyplot as plt\n",
        "from google.colab import drive\n",
        "drive.mount('/content/drive')\n",
        "import warnings\n",
        "warnings.filterwarnings('ignore')\n",
        "\n",
        "# import du dataset\n",
        "df = pd.read_csv('/content/drive/MyDrive/Formation Data Analyst/Fichiers Projet Data/vgsales_all.csv')\n",
        "\n",
        "# supression des colonnes inutiles\n",
        "df = df.drop([\"Rank\"], axis=1)\n",
        "\n",
        "# Processing des NaN\n",
        "df = df.dropna(subset=['Year'])\n",
        "df['Year'] = df['Year'].astype(int)\n",
        "df  = (df[(df['Year'] < 2022) ])\n",
        "df = df.dropna(subset=['Global_Sales'])\n",
        "df = df.dropna(subset=['Critic_Score']) #pas dans le script de Dorian \n",
        "# analyse des NaN restants\n",
        "df.isna().sum(axis=0)\n",
        "# remplacer les NaN par O pour éviter la création d'array lors du pivot\n",
        "df['NA_Sales'] = df['NA_Sales'].fillna(0)\n",
        "df['PAL_Sales'] = df['PAL_Sales'].fillna(0)\n",
        "df['JP_Sales'] = df['JP_Sales'].fillna(0)\n",
        "df['Other_Sales'] = df['Other_Sales'].fillna(0)\n",
        "\n",
        "# renommer pour plus de compréhension\n",
        "df = df.rename(columns={'Developer' : 'Studio'})\n",
        "df = df.rename(columns={'PAL_Sales' : 'EU_Sales'})\n",
        "#reformatage pour effacer les espaces\n",
        "df['Publisher'] = df['Publisher'].str.strip()\n",
        "df['Studio'] = df['Studio'].str.strip()\n",
        "\n",
        "#supression des doublons\n",
        "df = df.drop_duplicates(keep = 'first')"
      ],
      "id": "69528323-240f-4986-964e-813e4983d12f"
    },
    {
      "cell_type": "code",
      "execution_count": null,
      "metadata": {
        "id": "cZC2yZ4lnlYo"
      },
      "outputs": [],
      "source": [
        "# après une analyse de la répartition des valeurs, on enlève les variables extreme (minoritaire)\n",
        "df = df.drop(df[(df['Year'] == '1989')| \n",
        "                (df['Year'] == '1987')| \n",
        "                (df['Year'] == '1985')| \n",
        "                (df['Year'] == '2020')|\n",
        "                (df['Year'] == '2019')|\n",
        "                (df['Year'] == '1990')|\n",
        "                (df['Year'] == '1992')|\n",
        "                (df['Year'] == '1994')|\n",
        "                (df['Year'] == '1991')|\n",
        "                (df['Year'] == '1993')].index)\n",
        "\n",
        "df = df.drop(df[(df['Genre'] == 'Visual Novel')|\n",
        "                (df['Genre'] == 'Board Game')| \n",
        "                (df['Genre'] == 'Sandbox')|\n",
        "                (df['Genre'] == 'MMO')| \n",
        "                (df['Genre'] == 'Education')].index)\n",
        "\n",
        "df = df.drop(df[(df['Platform'] == 'GEN')|\n",
        "                (df['Platform'] == 'VC')|\n",
        "                (df['Platform'] == 'XBL')|\n",
        "                (df['Platform'] == 'PSN')|\n",
        "                (df['Platform'] == 'NES')|\n",
        "                (df['Platform'] == 'GBC')|\n",
        "                (df['Platform'] == 'PSV')|\n",
        "                (df['Platform'] == 'SAT')|\n",
        "                (df['Platform'] == 'GB')|\n",
        "                (df['Platform'] == 'SNES')].index)"
      ],
      "id": "cZC2yZ4lnlYo"
    },
    {
      "cell_type": "code",
      "execution_count": null,
      "metadata": {
        "id": "p4Dq23bvyw3z"
      },
      "outputs": [],
      "source": [
        "# Split de la colonne Platform par plateforme afin de pouvoir réaliser un pivot par la suite qui nous permettra d'avoir une ligne par jeu\n",
        "df = pd.get_dummies(data=df, columns=['Platform'])\n",
        "df = df.fillna(0)"
      ],
      "id": "p4Dq23bvyw3z"
    },
    {
      "cell_type": "code",
      "execution_count": null,
      "metadata": {
        "id": "M5a_9Xmiy3i-"
      },
      "outputs": [],
      "source": [
        "# Modification du DataFrame pour avoir une ligne par jeu\n",
        "df =df.pivot_table(index='Name',aggfunc={'Year' : lambda x: x.mode().iat[0],\n",
        "                                         'Genre': lambda x: x.mode().iat[0],\n",
        "                                         'Studio': lambda x: x.mode().iat[0],\n",
        "                                         'Publisher' : lambda x: x.mode().iat[0],\n",
        "                                         'NA_Sales':'sum',\n",
        "                                         'EU_Sales':'sum',\n",
        "                                         'JP_Sales':'sum',\n",
        "                                         'Other_Sales':'sum',\n",
        "                                         'Global_Sales':'sum',\n",
        "                                         'Critic_Score':lambda x: x.mode().iat[0],\n",
        "                                            'Platform_3DS':'sum',\n",
        "                                            'Platform_DC':'sum',\n",
        "                                            'Platform_DS':'sum',\n",
        "                                            'Platform_GBA':'sum',\n",
        "                                            'Platform_GC':'sum',\n",
        "                                            'Platform_N64':'sum',\n",
        "                                         'Platform_NS':'sum',\n",
        "                                            'Platform_PC':'sum',\n",
        "                                            'Platform_PS':'sum',\n",
        "                                            'Platform_PS2':'sum',\n",
        "                                            'Platform_PS3':'sum',\n",
        "                                            'Platform_PS4':'sum',\n",
        "                                            'Platform_PSP':'sum',\n",
        "                                            'Platform_Wii':'sum',\n",
        "                                            'Platform_WiiU':'sum',\n",
        "                                            'Platform_X360':'sum',\n",
        "                                            'Platform_XB':'sum',\n",
        "                                            'Platform_XOne':'sum',\n",
        "                                           })\n",
        "\n",
        "\n",
        "# Mise en forme de colonnes pour les avoir dans un ordre plus pertinent\n",
        "df = df.reindex(columns=['Name', 'Year', 'Genre', 'Publisher', 'Studio', 'Critic_Score','NA_Sales', 'EU_Sales', 'JP_Sales', 'Other_Sales',\n",
        "       'Global_Sales', 'Platform_3DS',\n",
        "       'Platform_DC', 'Platform_DS', 'Platform_GBA', 'Platform_GC',\n",
        "       'Platform_N64', 'Platform_NS', 'Platform_PC', 'Platform_PS',\n",
        "       'Platform_PS2', 'Platform_PS3', 'Platform_PS4', 'Platform_PSP',\n",
        "       'Platform_Wii', 'Platform_WiiU', 'Platform_X360', 'Platform_XB',\n",
        "       'Platform_XOne'])"
      ],
      "id": "M5a_9Xmiy3i-"
    },
    {
      "cell_type": "code",
      "execution_count": null,
      "metadata": {
        "id": "ImzFJr9ay7s_"
      },
      "outputs": [],
      "source": [
        "# supression de Name car doublon et vide\n",
        "df = df.drop([\"Name\"], axis=1)"
      ],
      "id": "ImzFJr9ay7s_"
    },
    {
      "cell_type": "code",
      "execution_count": null,
      "metadata": {
        "id": "MsFzjohdzq5L"
      },
      "outputs": [],
      "source": [
        "# Reconstituer la colonne Platform\n",
        "# Remplacer les 2 par des 1 pour avoir l'équivalent de oui/non\n",
        "df['Platform_3DS'] = df['Platform_3DS'].replace(['2'],[1])\n",
        "df['Platform_DS'] = df['Platform_DS'].replace(['2'],[1])\n",
        "df['Platform_PS2'] = df['Platform_PS2'].replace(['2'],[1])\n",
        "\n",
        "# Fusionner les deux colonnes en une seule colonne\n",
        "df['TotalPlatform'] = df[['Platform_3DS', 'Platform_DC', 'Platform_DS', 'Platform_GBA', 'Platform_GC', 'Platform_N64', 'Platform_NS', 'Platform_PC', 'Platform_PS', 'Platform_PS2', 'Platform_PS3', 'Platform_PS4', 'Platform_PSP', 'Platform_Wii', 'Platform_WiiU', 'Platform_X360', 'Platform_XB', 'Platform_XOne']].sum(axis=1)\n",
        "\n",
        "# Extraire les colonnes générées par le get_dummies\n",
        "platform_columns = [col for col in df.columns if col.startswith(\"Platform_\")]\n",
        "\n",
        "# Appliquer les conditions à toutes les lignes du DataFrame\n",
        "df.loc[df['TotalPlatform'] > 2, 'Platform'] = 'Multi_Plateforme'\n",
        "df.loc[df['TotalPlatform'] <= 2, 'Platform'] = df[platform_columns].idxmax(axis=1).str.replace(\"Platform_\", \"\")\n",
        "\n",
        "# Supprimer les colonnes générées par get_dummies\n",
        "df.drop(platform_columns, axis=1, inplace=True)\n",
        "df = df.drop(['TotalPlatform'],axis=1)\n",
        "\n",
        "# Réinitialiser l'index\n",
        "df.reset_index(inplace=True)"
      ],
      "id": "MsFzjohdzq5L"
    },
    {
      "cell_type": "code",
      "execution_count": null,
      "metadata": {
        "id": "4Ca5sp_YAFFB"
      },
      "outputs": [],
      "source": [
        "# Afin de limiter le nb de colonne lors de l'encodage nous avons clusterisé les variables avec bcp de modalités\n",
        "# Clusterisation Studio\n",
        "df_studio = df.groupby(['Studio']).agg({'Global_Sales':'sum'})\n",
        "df_studio['cat_studio'] = pd.qcut(df_studio['Global_Sales'], \n",
        "               4,\n",
        "                labels=['0','1','2','3'])\n",
        "\n",
        "# Clusterisation Publisher\n",
        "df_publi = df.groupby(['Publisher']).agg({'Global_Sales':'sum'})\n",
        "df_publi['cat_publi'] = pd.qcut(df_publi['Global_Sales'], \n",
        "               4,\n",
        "                labels=['0','1','2','3'])\n",
        "\n",
        "df = df.merge(right = df_publi, on = 'Publisher', how = 'left') \n",
        "df = df.merge(right = df_studio, on = 'Studio', how = 'left')\n",
        "\n",
        "df = df.drop([\"Global_Sales_y\"], axis=1)\n",
        "df = df.drop([\"Global_Sales\"], axis=1)\n",
        "df = df.drop([\"Studio\"], axis=1)\n",
        "df = df.drop([\"Publisher\"], axis=1)\n",
        "df = df.rename(columns={'Global_Sales_x' : 'Global_Sales'})"
      ],
      "id": "4Ca5sp_YAFFB"
    },
    {
      "cell_type": "code",
      "execution_count": null,
      "metadata": {
        "id": "29e6ecda-7626-4430-9e45-03b5c59a2c20"
      },
      "outputs": [],
      "source": [
        "# ici nous supprimons les colonnes inutiles à la modélisation\n",
        "df = df.drop(['NA_Sales','EU_Sales','JP_Sales','Other_Sales'],axis=1)"
      ],
      "id": "29e6ecda-7626-4430-9e45-03b5c59a2c20"
    },
    {
      "cell_type": "code",
      "execution_count": null,
      "metadata": {
        "colab": {
          "base_uri": "https://localhost:8080/"
        },
        "id": "dda625f3-c461-4404-9f5f-76d1e9b586ac",
        "outputId": "0e3c3b4e-488f-4d25-da5f-7a8ddfa678f9"
      },
      "outputs": [
        {
          "name": "stdout",
          "output_type": "stream",
          "text": [
            "Train Set: (2380, 7)\n",
            "Test Set: (1020, 7)\n"
          ]
        }
      ],
      "source": [
        "from sklearn import model_selection\n",
        "from sklearn import ensemble\n",
        "from sklearn import svm\n",
        "from sklearn import neighbors\n",
        "from sklearn.model_selection import train_test_split\n",
        "from sklearn import preprocessing\n",
        "from sklearn.preprocessing import OneHotEncoder\n",
        "\n",
        "data = df.drop('Global_Sales',axis=1)\n",
        "# isoler la variable cible\n",
        "y = df['Global_Sales']\n",
        "# Création du jeu d'entrainement et de test\n",
        "X_train, X_test, y_train, y_test = train_test_split(data,y,test_size=0.3,random_state=42)\n",
        "\n",
        "# Séparation des variables catégorielles et numértique\n",
        "num_train = X_train[['Critic_Score','Year','cat_publi','cat_studio']]\n",
        "num_test = X_test[['Critic_Score','Year','cat_publi','cat_studio']]\n",
        "\n",
        "cat_train = X_train.drop(['Critic_Score','Year','cat_publi','cat_studio','Name'], axis=1)\n",
        "cat_test = X_test.drop(['Critic_Score','Year','cat_publi','cat_studio','Name'], axis=1)\n",
        "\n",
        "print(\"Train Set:\", X_train.shape)\n",
        "print(\"Test Set:\", X_test.shape)"
      ],
      "id": "dda625f3-c461-4404-9f5f-76d1e9b586ac"
    },
    {
      "cell_type": "code",
      "execution_count": null,
      "metadata": {
        "colab": {
          "base_uri": "https://localhost:8080/"
        },
        "id": "mrfbcpHS-Vfx",
        "outputId": "72a8de49-e01e-462c-d782-daf7ea0094eb"
      },
      "outputs": [
        {
          "data": {
            "text/plain": [
              "Name            0\n",
              "Year            0\n",
              "Genre           0\n",
              "Critic_Score    0\n",
              "Global_Sales    0\n",
              "Platform        0\n",
              "cat_publi       0\n",
              "cat_studio      0\n",
              "dtype: int64"
            ]
          },
          "execution_count": 11,
          "metadata": {},
          "output_type": "execute_result"
        }
      ],
      "source": [
        "# Nous n'avons pas de NaN donc on ne réalise pas de Simple Imputer\n",
        "df.isna().sum()"
      ],
      "id": "mrfbcpHS-Vfx"
    },
    {
      "cell_type": "code",
      "execution_count": null,
      "metadata": {
        "colab": {
          "base_uri": "https://localhost:8080/"
        },
        "id": "37ac8a77-302e-496c-8f2f-cddc7a2ea8ff",
        "outputId": "19a5ac10-6a70-4191-841c-9924b4157f59",
        "scrolled": false
      },
      "outputs": [
        {
          "name": "stdout",
          "output_type": "stream",
          "text": [
            "(1020, 38)\n",
            "(2380, 38)\n"
          ]
        }
      ],
      "source": [
        "#Encoder les variables catégorielles\n",
        "oneh = OneHotEncoder(drop=\"first\", sparse=False)\n",
        "\n",
        "cat_train = pd.DataFrame(oneh.fit_transform(cat_train), columns = oneh.get_feature_names_out())\n",
        "cat_test = pd.DataFrame(oneh.fit_transform(cat_test), columns = oneh.get_feature_names_out())\n",
        "\n",
        "X_train_new = pd.concat([num_train.reset_index() ,cat_train.reset_index()], axis = 1)\n",
        "X_test_new = pd.concat([num_test.reset_index() ,cat_test.reset_index()], axis = 1)\n",
        "X_test_new.head()\n",
        "\n",
        "print(X_test_new.shape)\n",
        "print(X_train_new.shape)"
      ],
      "id": "37ac8a77-302e-496c-8f2f-cddc7a2ea8ff"
    },
    {
      "cell_type": "code",
      "execution_count": null,
      "metadata": {
        "colab": {
          "base_uri": "https://localhost:8080/"
        },
        "id": "9482487c",
        "outputId": "f7c4bcaf-b48e-4c96-af05-a61eda097150"
      },
      "outputs": [
        {
          "data": {
            "text/plain": [
              "((2380, 36), (1020, 36))"
            ]
          },
          "execution_count": 13,
          "metadata": {},
          "output_type": "execute_result"
        }
      ],
      "source": [
        "# on vérifie les tailles\n",
        "X_test_new = X_test_new.drop(columns='index')\n",
        "X_train_new = X_train_new.drop(columns='index')\n",
        "X_train_new.shape,X_test_new.shape"
      ],
      "id": "9482487c"
    },
    {
      "cell_type": "code",
      "execution_count": null,
      "metadata": {
        "id": "3b2c6484"
      },
      "outputs": [],
      "source": [
        "# vu qu'il s'agit d'une variable en quantité nous avons choisi un modèle de regression\n",
        "# import des modeles\n",
        "from sklearn.preprocessing import StandardScaler\n",
        "from sklearn.linear_model import LogisticRegression\n",
        "from sklearn.tree import DecisionTreeClassifier\n",
        "from sklearn.tree import DecisionTreeRegressor\n",
        "\n",
        "# normalisation des données\n",
        "scaler = StandardScaler()\n",
        "\n",
        "X_train_scaled = scaler.fit_transform(X_train_new)\n",
        "X_test_scaled = scaler.transform(X_test_new)"
      ],
      "id": "3b2c6484"
    },
    {
      "cell_type": "code",
      "execution_count": null,
      "metadata": {
        "colab": {
          "base_uri": "https://localhost:8080/"
        },
        "id": "ab4a0fd8-ea5b-4ff2-986a-45884f88f202",
        "outputId": "30470ec3-862a-4ea4-ff3f-e5128594a649"
      },
      "outputs": [
        {
          "name": "stdout",
          "output_type": "stream",
          "text": [
            "Accuracy score de la Régression Logistique sur le jeux d'entrainement :  0.21122154841830665\n",
            "Accuracy score de l'Arbre de Décision sur le jeux d'entrainement  :  0.973932818111767\n",
            "Accuracy score du Random Forest sur le jeux d'entrainement :  0.8605217623092671\n",
            "Accuracy score de la Régression Logistique sur le jeux de test :  0.11884109217929484\n",
            "Accuracy score de l'Arbre de Décision sur le jeux de test:  -0.14593461080075487\n",
            "Accuracy score du Random Forest sur le jeux de test :  0.10762196448540151\n"
          ]
        }
      ],
      "source": [
        "# 1/ La régression Logistique\n",
        "from sklearn.linear_model import LinearRegression\n",
        "\n",
        "cl1 = LinearRegression()\n",
        "cl1.fit(X_train_scaled, y_train)\n",
        "print(\"Accuracy score de la Régression Logistique sur le jeux d'entrainement : \",\n",
        "     cl1.score(X_train_scaled, y_train))\n",
        "\n",
        "# 2/ Le modèle Decision Tree\n",
        "cl2 = DecisionTreeRegressor()\n",
        "cl2.fit(X_train_scaled, y_train)\n",
        "print(\"Accuracy score de l'Arbre de Décision sur le jeux d'entrainement  : \",\n",
        "     cl2.score(X_train_scaled, y_train))\n",
        "\n",
        "# 3/ Random Forest\n",
        "from sklearn.ensemble import RandomForestRegressor\n",
        "cl3 = RandomForestRegressor()\n",
        "cl3.fit(X_train_scaled, y_train)\n",
        "print(\"Accuracy score du Random Forest sur le jeux d'entrainement : \",\n",
        "     cl3.score(X_train_scaled, y_train))\n",
        "\n",
        "#analyse des scores de performances des modèles\n",
        "print(\"Accuracy score de la Régression Logistique sur le jeux de test : \",\n",
        "     cl1.score(X_test_scaled, y_test))\n",
        "print(\"Accuracy score de l'Arbre de Décision sur le jeux de test: \",\n",
        "     cl2.score(X_test_scaled, y_test))\n",
        "print(\"Accuracy score du Random Forest sur le jeux de test : \",\n",
        "     cl3.score(X_test_scaled, y_test))"
      ],
      "id": "ab4a0fd8-ea5b-4ff2-986a-45884f88f202"
    },
    {
      "cell_type": "code",
      "execution_count": null,
      "metadata": {
        "colab": {
          "base_uri": "https://localhost:8080/",
          "height": 708
        },
        "id": "13QvV69rD6WU",
        "outputId": "59d8333b-b266-48e0-99b1-c7a69d39ed9e"
      },
      "outputs": [
        {
          "data": {
            "text/plain": [
              "<Axes: >"
            ]
          },
          "execution_count": 16,
          "metadata": {},
          "output_type": "execute_result"
        },
        {
          "data": {
            "image/png": "[encoded data removed]",
            "text/plain": [
              "<Figure size 800x600 with 1 Axes>"
            ]
          },
          "metadata": {},
          "output_type": "display_data"
        }
      ],
      "source": [
        "# analyse de l'importance de chaque variable afin d'affiner notre modèle\n",
        "cl3.feature_importances_\n",
        "\n",
        "import matplotlib.pyplot as plt\n",
        "%matplotlib inline\n",
        "feat_importances = pd.DataFrame(cl3.feature_importances_, \n",
        "                                index=X_test_new.columns, \n",
        "                                columns=[\"Importance\"])\n",
        "\n",
        "feat_importances.sort_values(by='Importance', ascending=False, inplace=True)\n",
        "feat_importances.plot(kind='bar', figsize=(8,6),color=\"darkviolet\")"
      ],
      "id": "13QvV69rD6WU"
    },
    {
      "cell_type": "code",
      "execution_count": null,
      "metadata": {
        "colab": {
          "base_uri": "https://localhost:8080/"
        },
        "id": "qz0J7sycEnX9",
        "outputId": "2038d7b4-a734-40b0-f7f9-3ff67e97728a"
      },
      "outputs": [
        {
          "name": "stdout",
          "output_type": "stream",
          "text": [
            "Train Set: (2380, 2)\n",
            "Test Set: (1020, 2)\n"
          ]
        }
      ],
      "source": [
        "# nous faisons la même opération avec les varaibles les plus importantes\n",
        "data = df[['Critic_Score','Year']]\n",
        "y = df['Global_Sales']\n",
        "X_train, X_test, y_train, y_test = train_test_split(data,y,test_size=0.3,random_state=42)\n",
        "\n",
        "print(\"Train Set:\", X_train.shape)\n",
        "print(\"Test Set:\", X_test.shape)"
      ],
      "id": "qz0J7sycEnX9"
    },
    {
      "cell_type": "code",
      "execution_count": null,
      "metadata": {
        "id": "0UduoIBJF6-e"
      },
      "outputs": [],
      "source": [
        "scaler = StandardScaler()\n",
        "X_train_scaled = scaler.fit_transform(X_train_new)\n",
        "X_test_scaled = scaler.transform(X_test_new)"
      ],
      "id": "0UduoIBJF6-e"
    },
    {
      "cell_type": "code",
      "execution_count": null,
      "metadata": {
        "colab": {
          "base_uri": "https://localhost:8080/"
        },
        "id": "qjk2-qU5GCO8",
        "outputId": "2b4c8f1a-f04e-45c2-e010-cdbcf4b51a62"
      },
      "outputs": [
        {
          "name": "stdout",
          "output_type": "stream",
          "text": [
            "Accuracy score de la Régression Logistique sur le jeux d'entrainement :  0.21122154841830665\n",
            "Accuracy score de l'Arbre de Décision sur le jeux d'entrainement  :  0.973932818111767\n",
            "Accuracy score du Random Forest sur le jeux d'entrainement :  0.8574755553276462\n",
            "Accuracy score de la Régression Logistique sur le jeux de test :  0.11884109217929484\n",
            "Accuracy score de l'Arbre de Décision sur le jeux de test:  -0.18603429696408336\n",
            "Accuracy score du Random Forest sur le jeux de test :  0.12353571399063534\n"
          ]
        }
      ],
      "source": [
        "# 1/ La régression Logistique\n",
        "cl1 = LinearRegression()\n",
        "cl1.fit(X_train_scaled, y_train)\n",
        "print(\"Accuracy score de la Régression Logistique sur le jeux d'entrainement : \",\n",
        "     cl1.score(X_train_scaled, y_train))\n",
        "\n",
        "# 2/ Le modèle Decision Tree\n",
        "cl2 = DecisionTreeRegressor()\n",
        "cl2.fit(X_train_scaled, y_train)\n",
        "print(\"Accuracy score de l'Arbre de Décision sur le jeux d'entrainement  : \",\n",
        "     cl2.score(X_train_scaled, y_train))\n",
        "\n",
        "# 3/ Random Forest\n",
        "cl3 = RandomForestRegressor()\n",
        "cl3.fit(X_train_scaled, y_train)\n",
        "print(\"Accuracy score du Random Forest sur le jeux d'entrainement : \",\n",
        "     cl3.score(X_train_scaled, y_train))\n",
        "\n",
        "print(\"Accuracy score de la Régression Logistique sur le jeux de test : \",\n",
        "     cl1.score(X_test_scaled, y_test))\n",
        "print(\"Accuracy score de l'Arbre de Décision sur le jeux de test: \",\n",
        "     cl2.score(X_test_scaled, y_test))\n",
        "print(\"Accuracy score du Random Forest sur le jeux de test : \",\n",
        "     cl3.score(X_test_scaled, y_test))"
      ],
      "id": "qjk2-qU5GCO8"
    },
    {
      "cell_type": "code",
      "execution_count": null,
      "metadata": {
        "colab": {
          "base_uri": "https://localhost:8080/",
          "height": 453
        },
        "id": "F_qIG5zIrYfQ",
        "outputId": "e93dde71-4509-49f0-87f6-639f596a5341"
      },
      "outputs": [
        {
          "data": {
            "image/png": "[encoded data removed]",
            "text/plain": [
              "<Figure size 640x480 with 1 Axes>"
            ]
          },
          "metadata": {},
          "output_type": "display_data"
        }
      ],
      "source": [
        "#analyse des résultats\n",
        "x = [\"Régression Logistique\",\"Arbre de Décision\",\"Random Forest\"]\n",
        "y = [0.11884109217929484,-0.2,0.10571851988597436]\n",
        "\n",
        "plt.bar(x, y , color = 'darkviolet', width = 0.6) \n",
        "plt.ylim(-0.5,1)\n",
        "plt.grid(axis='y')\n",
        "plt.title(\"Résultats\");"
      ],
      "id": "F_qIG5zIrYfQ"
    },
    {
      "cell_type": "code",
      "execution_count": null,
      "metadata": {
        "colab": {
          "background_save": true,
          "base_uri": "https://localhost:8080/"
        },
        "id": "nhYELu8IGrlu",
        "outputId": "a46e96d7-68d6-4a39-eedc-43ce2d42797b"
      },
      "outputs": [
        {
          "name": "stdout",
          "output_type": "stream",
          "text": [
            "Fitting 10 folds for each of 51 candidates, totalling 510 fits\n",
            "{'criterion': 'poisson', 'max_depth': 3}\n",
            "0.13033158628180141\n"
          ]
        }
      ],
      "source": [
        "# nous souhaitions analyser les meilleurs hyper paramètres\n",
        "from sklearn.model_selection import GridSearchCV\n",
        "import numpy as np\n",
        "\n",
        "param_grid = {'criterion': ['squared_error', 'friedman_mse','poisson'], 'max_depth': np.arange(3, 20)}\n",
        "clf_gs = GridSearchCV(cl3, param_grid, cv=10, verbose=1)\n",
        "clf_gs.fit(X_train_scaled, y_train)\n",
        "print(clf_gs.best_params_)\n",
        "print(clf_gs.score(X_test_scaled, y_test))"
      ],
      "id": "nhYELu8IGrlu"
    }
  ],
  "metadata": {
    "colab": {
      "provenance": [],
      "include_colab_link": true
    },
    "kernelspec": {
      "display_name": "Python 3 (ipykernel)",
      "language": "python",
      "name": "python3"
    },
    "language_info": {
      "codemirror_mode": {
        "name": "ipython",
        "version": 3
      },
      "file_extension": ".py",
      "mimetype": "text/x-python",
      "name": "python",
      "nbconvert_exporter": "python",
      "pygments_lexer": "ipython3",
      "version": "3.9.13"
    }
  },
  "nbformat": 4,
  "nbformat_minor": 5
}